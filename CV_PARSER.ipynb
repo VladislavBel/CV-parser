{
 "cells": [
  {
   "cell_type": "code",
   "execution_count": 1,
   "metadata": {},
   "outputs": [
    {
     "name": "stderr",
     "output_type": "stream",
     "text": [
      "/home/lulush/anaconda3/lib/python3.7/site-packages/spacy/util.py:275: UserWarning: [W031] Model 'en_training' (0.0.0) requires spaCy v2.2 and is incompatible with the current spaCy version (2.3.5). This may lead to unexpected results or runtime errors. To resolve this, download a newer compatible model or retrain your custom model with the current spaCy version. For more details and available updates, run: python -m spacy validate\n",
      "  warnings.warn(warn_msg)\n"
     ]
    }
   ],
   "source": [
    "#For this task, I found this library https://pypi.org/project/resume-parser/\n",
    "#after testing it on some CV's that I was given I come to the conclusion that this library \n",
    "#doing not really good with more \"fancy\" looking CV's, so a lot of improvements can be done.\n",
    "#But due to limited time I can't make it well right now, but I see how to make it better.\n",
    "#So I decided to use it as it is and parse CV's with that lib, and convert all information into .csv file\n",
    "#That what I have ended up with. \n",
    "#As example print in .csv I choose the last one because data from it was parsed most correctly.\n",
    "from resume_parser import resumeparse\n",
    "import csv"
   ]
  },
  {
   "cell_type": "code",
   "execution_count": 2,
   "metadata": {
    "scrolled": true
   },
   "outputs": [
    {
     "name": "stdout",
     "output_type": "stream",
     "text": [
      "{'email': None, 'phone': '017-2018', 'name': '', 'total_exp': 0, 'university': [], 'designition': ['web developer', 'associate', 'student', 'technician', 'board member', 'committee member'], 'degree': [], 'skills': [': C#', ' MSSQL', ' Jira', 'Organization']}\n"
     ]
    }
   ],
   "source": [
    "data0 = resumeparse.read_file('CV/AhMa_batch1_anonymized.pdf')\n",
    "print(data0)"
   ]
  },
  {
   "cell_type": "code",
   "execution_count": 3,
   "metadata": {
    "scrolled": false
   },
   "outputs": [
    {
     "name": "stdout",
     "output_type": "stream",
     "text": [
      "{'email': None, 'phone': '', 'name': '', 'total_exp': 7, 'university': [], 'designition': ['owner', 'software developer', 'team leader', 'web developer'], 'degree': [], 'skills': ['/products used: C++', ' Qt widgets', ' CSS', ' QML', ' SqlLite.', '06.08.2018 – Current Web developer', 'Tech Stack : .NET + Angular', 'MCA', ' Skopje(MKD)', '▪ Meetings with the client', '▪ Regular discussion with team leader about current and future changes', 'Curriculum Vitae', 'Page 2 / 2', '2013 – 2018 University: Ss.”Cyril and Methodeus” in Skopje', 'Faculty of Computer Science and Engineering', 'Studies: Applied E-Technologies', 'Native language(s) Macedonian', 'Other language(s) UNDERSTANDING SPEAKING WRITING', 'Listening Reading Spoken interaction Spoken production', 'English C2 C2 C2 C2 C2', 'Serbian C2 C1 C1 C1 B1', 'Bulgarian C1 B2 C1 C1 B1', 'Croatian C2 C1 C1 C1 B1', 'German A2 A2 A2 A2 A2', 'Levels: A1/A2: Basic user - B1/B2: Independent user - C1/C2 Proficient user', 'Common European Framework of Reference for Languages', 'Communication skills ▪ good communication skills gained through my experience in the past and current company.', 'Organisational / managerial skills ▪ leadership', '▪ decision making', '▪ trust', '▪ team player', 'Internship related skills Languages and Specifications: C', ' C++', ' C#', ' HTML5', ' JavaScript', ' Bootstrap..', 'Software Engineering: Object oriented programming', ' Structure Programming', ' Algorithms and data', 'structures', ' Operating systems', ' Threading.', 'Tools: Visual Studio', ' Qt', ' Eclipse', ' Android Studio', ' MS Office', ' Git', ' PyCharm', ' IntelliJ IDEA', ' WebStorm', '', 'Visual Studio Code.', 'Operating Systems: Microsoft Windows', ' GNU/Linux.', 'http://europass.cedefop.europa.eu/en/resources/european-language-levels-cefr']}\n"
     ]
    }
   ],
   "source": [
    "data1 = resumeparse.read_file('CV/AleAn_batch1_anonymized.pdf')\n",
    "print(data1)"
   ]
  },
  {
   "cell_type": "code",
   "execution_count": 4,
   "metadata": {},
   "outputs": [
    {
     "name": "stdout",
     "output_type": "stream",
     "text": [
      "{'email': None, 'phone': '', 'name': '', 'total_exp': 6, 'university': ['ecole polytechnique'], 'designition': ['software developer', 'applications analyst', 'project manager', 'analyst programmer'], 'degree': [], 'skills': ['/Technologies', '� Advanced: C++', '� Pro�cient: JavaScript', ' Git', ' TypeScript', ' Vue', ' HTML', ' CSS', ' Sass', ' Less', '� Familiar: React', ' Python', ' Java', ' C#', ' SQL: French (Native)', ' English (Bilingual)', ' German (B1)', ' Spanish (A2)']}\n"
     ]
    }
   ],
   "source": [
    "data2 = resumeparse.read_file('CV/AleVan_batch1_anonymized.pdf')\n",
    "print(data2)"
   ]
  },
  {
   "cell_type": "code",
   "execution_count": 5,
   "metadata": {},
   "outputs": [
    {
     "name": "stdout",
     "output_type": "stream",
     "text": [
      "{'email': None, 'phone': '', 'name': 'JavaScript Bootcamp', 'total_exp': 6, 'university': ['ludwig-maximilians-universität münchen', 'ashkelon academic college'], 'designition': ['online editor', 'student'], 'degree': ['B.A.'], 'skills': ['web development', 'phpmyadmin', 'english', 'graphql', 'html', 'azure', 'hf', 'microsoft', 'javascript', 'ux', 'typescript', 'react native', 'angular', 'wordpress', 'office', 'online', 'sass', 'web', 'php', 'seo', 'big data', 'web services', 'german', 'vue.js', 'cloud', 'bootstrap', 'mysql', 'svg', 'cms', 'figma', 'apollo', 'database', 'git', 'invision', 'sql', 'aws', 'microsoft office', 'css', 'design', 'beginner', 'jquery', 'es6', 'french', 'webdesign', 'redux', 'scrum', 'government', 'psm', 'toefl', 'joomla', 'websockets', 'versioning']}\n"
     ]
    }
   ],
   "source": [
    "data3 = resumeparse.read_file('CV/DaSi_batch1_anonymized.pdf')\n",
    "print(data3)"
   ]
  },
  {
   "cell_type": "code",
   "execution_count": 6,
   "metadata": {},
   "outputs": [
    {
     "name": "stdout",
     "output_type": "stream",
     "text": [
      "{'email': None, 'phone': '', 'name': '', 'total_exp': 0, 'university': [], 'designition': [], 'degree': [], 'skills': []}\n"
     ]
    }
   ],
   "source": [
    "data4 = resumeparse.read_file('CV/EgGe_batch1_anonymized.pdf')\n",
    "print(data4)"
   ]
  },
  {
   "cell_type": "code",
   "execution_count": 7,
   "metadata": {},
   "outputs": [
    {
     "name": "stdout",
     "output_type": "stream",
     "text": [
      "{'email': 'mailto:e@demirkaya.net', 'phone': '5733147', 'name': '', 'total_exp': 8, 'university': ['istanbul university'], 'designition': ['full stack web developer', 'web developer', 'category manager', 'founder'], 'degree': [], 'skills': ['HTML CSS node.js Angular 2+', 'React JavaScript GIT jQuery', 'Bootstrap TypeScript Jira', 'English', 'German', 'Turkish', 'HOBBIES', 'Photography Music Movies', 'Sports Technology Collecting']}\n"
     ]
    }
   ],
   "source": [
    "data5 = resumeparse.read_file('CV/EmDe_batch1_anonymized.pdf')\n",
    "print(data5)"
   ]
  },
  {
   "cell_type": "code",
   "execution_count": 8,
   "metadata": {},
   "outputs": [
    {
     "name": "stdout",
     "output_type": "stream",
     "text": [
      "{'email': 'mailto:gev.zak@gmail.com', 'phone': '', 'name': '', 'total_exp': 0, 'university': ['technische universität wien'], 'designition': [], 'degree': [], 'skills': ['lao', 'ubuntu', 'jaas', 'pdr', 'html', 'united nations', 'microsoft', 'javascript', 'computing', 'esxi', 'c#', 'sql server', 'web', 'voip', 'e-commerce-entwicklung', 'express', 'virtualisierung', 'windows', 'vue.js', 'internet', 'des', 'cloud', 'advanced', 'windows server', 'it', 'c', 'sql', 'commerce', 'teams', 'css', 'e-commerce', 'java', 'telecom', 'dem', '.net framework', 'asp.net', 'mvc', 'llc', 'debian', 'framework']}\n"
     ]
    }
   ],
   "source": [
    "data6 = resumeparse.read_file('CV/GeZa_batch1_anonymized.pdf')\n",
    "print(data6)"
   ]
  },
  {
   "cell_type": "code",
   "execution_count": 9,
   "metadata": {},
   "outputs": [
    {
     "name": "stdout",
     "output_type": "stream",
     "text": [
      "{'email': None, 'phone': '005-2017', 'name': 'Graphic Designer', 'total_exp': 3, 'university': [], 'designition': ['web developer', 'graphic designer', 'secretary', 'web designer'], 'degree': [], 'skills': ['Mother tongue(s) German', 'Communication skills - good communication skills gained through exhibitions and education in Austria', '- excellent contact skills in Russian', ' German languages gained through my experience in own', 'projects', 'Organisational / managerial', 'skills', '- was leading a little group (5 ppl) in the school for organising Olympiads', '- in the bitcoin conference mentioned before', ' i were leading the volunteer team and organizing', 'tasks', ' schedules', ' visitor lists', 'Job-related skills - able to keep users freshly informed about any topic', '- able to solve customers issues and troubles', '- speech skills (gained in year 2013 visiting acting courses)', \"- calling people from the client base for sharing company's last offers\", '- work with php', ' js (and jquery)', ' html5', ' css3', ' sass', ' twig', ' able to work with libraries', ' learning', 'vue.js.', '- web & graphic design', 'Digital skills SELF-ASSESSMENT', 'Information', 'processing Communication Content creation Safety Problem solving', 'Proficient user Proficient user Proficient user Proficient user Proficient user', 'Digital skills - Self-assessment grid', '- good command on office suite (presentation software (powerpoint', ' prezi)', ' spreadsheets', 'excel', ' google sheets)', ' word and other)', '- photo editing', ' graphic creation', ' web design', ' ui&ux', '- debugging', ' white hat hacking - safety is very important to me', '- can reinstall windows', ' find needed software', ' troubleshoot issues', ' repair a PC', 'Page \\u200b2\\u200b \\u200b/ \\u200b2', 'http://europass.cedefop.europa.eu/en/resources/digital-competences']}\n"
     ]
    }
   ],
   "source": [
    "data7 = resumeparse.read_file('CV/JaBo_batch1_anonymized.pdf')\n",
    "print(data7)"
   ]
  },
  {
   "cell_type": "code",
   "execution_count": 10,
   "metadata": {},
   "outputs": [
    {
     "name": "stdout",
     "output_type": "stream",
     "text": [
      "{'email': None, 'phone': '', 'name': '', 'total_exp': 0, 'university': [], 'designition': ['software engineer'], 'degree': [], 'skills': ['freemarker', 'english', 'studio', 'ltd', 'saas', 'visitor management', 'jpa', 'oracle', 'javascript', 'typescript', 'rabbitmq', 'redis', 'tamil', 'jenkins', 'angular', 'boot', 'management system', 'eclipse', 'json', 'tutoring', 'im', 'web', 'application', 'html5', 'nexus', 'sonarqube', 'electronics', 'programmiersprachen', 'intellij idea', 'mariadb', 'visual studio code', 'secondary education', 'mongodb', 'mysql', 'spring framework', 'bootstrap', 'it', 'public', 'rest', 'ajax', 'confluence', 'git', 'hibernate', 'agile', 'sql', 'aws', 'spring', 'spring boot', 'css', 'design', 'docker', 'java', 'angularjs', 'mes', 'jquery', 'malayalam', 'elasticsearch', 'python', 'mvc', 'soap', 'visual studio', 'jira', 'scrum', 'llp', 'online', 'framework']}\n"
     ]
    }
   ],
   "source": [
    "data8 = resumeparse.read_file('CV/JoJo_batch1_anonymized.pdf')\n",
    "print(data8)"
   ]
  },
  {
   "cell_type": "code",
   "execution_count": 11,
   "metadata": {},
   "outputs": [
    {
     "name": "stdout",
     "output_type": "stream",
     "text": [
      "{'email': None, 'phone': '', 'name': '', 'total_exp': 0, 'university': [], 'designition': [], 'degree': [], 'skills': ['painting', 'api', 'english', 'linux', 'html', 'f', 'github', 'mac', 'javascript', 'typescript', 'mac os', 'twig', 'react.js', 'x', 'german', 'd', 'r', 'npm', 'mac os x', 'bootstrap', 'mysql', 'cms', 'c', 'rest', 'b2', 'git', 'agile', 'o', 'sql', 'css', 'bem', 'webpack', 'jquery', 'drawing', 'es6', 'os x', 'polish', 'redux', 'scrum', 'n']}\n"
     ]
    }
   ],
   "source": [
    "data9 = resumeparse.read_file('CV/LuRe_batch1_anonymized.pdf')\n",
    "print(data9)"
   ]
  },
  {
   "cell_type": "code",
   "execution_count": 12,
   "metadata": {},
   "outputs": [
    {
     "name": "stdout",
     "output_type": "stream",
     "text": [
      "{'email': 'So@ware', 'phone': '7240421', 'name': 'So@ware Development', 'total_exp': 3, 'university': ['german university in cairo'], 'designition': ['web developer', 'english teacher'], 'degree': [], 'skills': ['english', 'shops', 'huawei', 'javascript', 'typescript', 'ux', 'north africa', 'flow', 'finance', 'app', 'react.js', 'web', 'c2', 'html5', 'german', 'store', 'b1', 'vue.js', 'it', 'dynamic communicator', 'aiesec', 'commerce', 'teams', 'enterprise', 'design', 'e-commerce', 'interfaces', 'arabic', 'technology', 'freelancer', 'google', 'camps', 'apache', 'online', 'mobile']}\n"
     ]
    }
   ],
   "source": [
    "data10 = resumeparse.read_file('CV/MoRa_batch1_anonymized.pdf')\n",
    "print(data10)"
   ]
  },
  {
   "cell_type": "code",
   "execution_count": 13,
   "metadata": {
    "scrolled": true
   },
   "outputs": [
    {
     "name": "stdout",
     "output_type": "stream",
     "text": [
      "{'email': 'mailto:machirajusandeep4@gmail.com', 'phone': '', 'name': 'Android Developer', 'total_exp': 3, 'university': ['university of wales'], 'designition': ['android developer', 'web developer', 'business analyst', 'certified ethical hacker'], 'degree': ['Master of Science (Computer Software'], 'skills': ['Angular v1.x v2.0 v4.0', 'Typescript', ' ES6/7', 'Reactjs', ' Angularjs', 'HTML/CSS/LESS/SASS', 'GIT', ' Angular CLI', ' NPM', 'JavaScript', 'ES5/6', 'jQuery', '', 'Son', 'Android', ' Kotlin', ' Java', 'MongoDB', ' Firebase', 'REST API’s', ' Ajax', 'SDLC', '[Agile', ' Scrum', ' Waterfall]', 'English', 'German', 'Dutch', 'Description: Core principles of this application is to validate the Customer information', ' Class information', 'calculate the time spent on courses validations on key information', ' ability to interface with course systems', 'Report generation', ' activity and security.', 'Used Angular 4 as frame work to create a single page application (SPA) which can bind data to', 'specific views and synchronize data with server using Sass', ' Less', ' Bootstrap', ' Angular.', 'Leveraged MVC design pattern to Organize Angular controllers', ' Custom Directives', ' factories and', 'views.', 'Involved in writing application level code to interact with APIs', ' RESTful Webservices using AJAX', 'JSON.', 'Optimizing the performance and response time of the application.', 'May 2015 - Mar 2017 Web developer (Grarri pvt ltd.)', 'Description: Grarri is a digital product agency', ' bringing together best-in-class design', ' technology and', 'marketing services to create', ' develop and sustain your brand and its digital presence.', 'Worked on customizing App bundles', ' Table views', ' List views', ' Tab bars and navigation bars.', 'Knowledge of using HTML5', ' CSS3', ' JS in collaborative environment.', 'Expertise in analyzing the Document Object Model (DOM)', ' layout', ' DOM functions and JavaScript', 'functions', ' Cascading styles across cross browser using Fire Bug', ' Developer Toolbar.', 'Worked extensively in developing single-page applications (SPAs) using Reactjs.', 'Responsible for resolving bugs', ' production and QA issues.', 'Aug 2013 - Mar 2015 Android Developer (Anabond pvt ltd.)', 'Used Android SDK and Eclipse IDE for development.', 'Administration Module: Unit Master', ' Group unit Master', ' Deployment', ' Unit/Group unit Attendance', 'Unit/Group unit Salary Generation', ' Unit/Group unit Salary Distribution.']}\n"
     ]
    }
   ],
   "source": [
    "data11 = resumeparse.read_file('CV/SaMa_batch1_anonymized.pdf')\n",
    "print(data11)"
   ]
  },
  {
   "cell_type": "code",
   "execution_count": 15,
   "metadata": {},
   "outputs": [],
   "source": [
    "w = csv.writer(open(\"output.csv\", \"w\"))\n",
    "for key, val in data11.items():\n",
    "    w.writerow([key, val])"
   ]
  }
 ],
 "metadata": {
  "kernelspec": {
   "display_name": "Python 3",
   "language": "python",
   "name": "python3"
  },
  "language_info": {
   "codemirror_mode": {
    "name": "ipython",
    "version": 3
   },
   "file_extension": ".py",
   "mimetype": "text/x-python",
   "name": "python",
   "nbconvert_exporter": "python",
   "pygments_lexer": "ipython3",
   "version": "3.7.4"
  }
 },
 "nbformat": 4,
 "nbformat_minor": 2
}
